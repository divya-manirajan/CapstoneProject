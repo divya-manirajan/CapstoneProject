{
 "cells": [
  {
   "cell_type": "code",
   "execution_count": 2,
   "id": "aedef232-444f-4861-8b6e-21546f1e2a82",
   "metadata": {},
   "outputs": [
    {
     "name": "stdout",
     "output_type": "stream",
     "text": [
      "Recording Audio\n",
      "Audio recording complete , Play Audio\n",
      "Play Audio Complete\n"
     ]
    }
   ],
   "source": [
    "import sounddevice as sd\n",
    "import numpy as np\n",
    "#import scipy.io.wavfile as wav\n",
    "\n",
    "fs=44100\n",
    "duration = 5  # seconds\n",
    "myrecording = sd.rec(duration * fs, samplerate=fs, channels=1,dtype='float64')\n",
    "print (\"Recording Audio\")\n",
    "sd.wait()\n",
    "print (\"Audio recording complete , Play Audio\")\n",
    "sd.play(myrecording, fs)\n",
    "sd.wait()\n",
    "print (\"Play Audio Complete\")"
   ]
  },
  {
   "cell_type": "code",
   "execution_count": null,
   "id": "7d4fc4ac-4632-4bb8-a2e0-15759866e2ed",
   "metadata": {},
   "outputs": [],
   "source": []
  }
 ],
 "metadata": {
  "kernelspec": {
   "display_name": "Python 3",
   "language": "python",
   "name": "python3"
  },
  "language_info": {
   "codemirror_mode": {
    "name": "ipython",
    "version": 3
   },
   "file_extension": ".py",
   "mimetype": "text/x-python",
   "name": "python",
   "nbconvert_exporter": "python",
   "pygments_lexer": "ipython3",
   "version": "3.8.8"
  }
 },
 "nbformat": 4,
 "nbformat_minor": 5
}
